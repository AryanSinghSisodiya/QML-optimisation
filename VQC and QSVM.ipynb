{
 "cells": [
  {
   "cell_type": "code",
   "execution_count": null,
   "id": "772b767c",
   "metadata": {},
   "outputs": [],
   "source": [
    "from qiskit import QuantumCircuit, transpile\n",
    "import pandas as pd\n",
    "import numpy as np\n",
    "\n",
    "from qiskit.circuit import Parameter\n",
    "from qiskit.circuit.library import ZZFeatureMap\n",
    "from qiskit_aer import AerSimulator\n",
    "from qiskit.quantum_info import Statevector\n",
    "from sklearn.model_selection import train_test_split\n",
    "\n",
    "from sklearn.svm import SVC\n",
    "from tqdm import tqdm\n"
   ]
  },
  {
   "cell_type": "code",
   "execution_count": null,
   "id": "c288f569",
   "metadata": {},
   "outputs": [],
   "source": [
    "df = pd.read_csv('dataset.csv')"
   ]
  },
  {
   "cell_type": "code",
   "execution_count": null,
   "id": "a2d0d957",
   "metadata": {},
   "outputs": [],
   "source": [
    "# def min_max_scaling(x,axis=None):\n",
    "#   \"\"\"Normalized to [-1, 1]\"\"\"\n",
    "#   min = x.min(axis=axis)\n",
    "#   max = x.max(axis=axis)\n",
    "#   result = (x-min)/(max-min)\n",
    "#   result = (2.0*result)-1.0\n",
    "#   return result\n",
    "def min_max_scaling_0_to_2pi(x, axis=None):\n",
    "    \"\"\"Normalized to [0, 2π]\"\"\"\n",
    "    min_val = x.min(axis=axis)\n",
    "    max_val = x.max(axis=axis)\n",
    "    result = (x - min_val) / (max_val - min_val)  \n",
    "    result = 2.0 * np.pi * result  \n",
    "    return result"
   ]
  },
  {
   "cell_type": "code",
   "execution_count": null,
   "id": "438dceb3",
   "metadata": {},
   "outputs": [],
   "source": [
    "raw_X = df.drop(columns=['Label'])\n",
    "features = min_max_scaling_0_to_2pi(raw_X.values)\n",
    "Y = df['Label']\n",
    "labels = Y.values"
   ]
  },
  {
   "cell_type": "code",
   "execution_count": null,
   "id": "8a4dd836",
   "metadata": {},
   "outputs": [],
   "source": [
    "\n",
    "X_train, X_test, y_train, y_test = train_test_split(\n",
    "    features,\n",
    "    labels,\n",
    "    test_size=0.2, \n",
    "    random_state=42,  \n",
    "    stratify=labels  \n",
    ")"
   ]
  },
  {
   "cell_type": "markdown",
   "id": "f1121285",
   "metadata": {},
   "source": [
    "# Quantum Support Vector Machine"
   ]
  },
  {
   "cell_type": "code",
   "execution_count": null,
   "id": "9d273945",
   "metadata": {},
   "outputs": [],
   "source": [
    "def kernelcircuit(x,y):\n",
    "    qc = QuantumCircuit(3)\n",
    "    feature_map = ZZFeatureMap(3,reps=1)\n",
    "    feature_map = feature_map.assign_parameters(x)\n",
    "    qc = qc.compose(feature_map)\n",
    "    qc.barrier()\n",
    "    feature_map2 = ZZFeatureMap(3,reps=1)\n",
    "    feature_map2 = feature_map2.assign_parameters(y)\n",
    "    feature_map_inv=feature_map2.inverse()\n",
    "    qc = qc.compose(feature_map_inv)\n",
    "    qc.measure_all()\n",
    "    simulator = AerSimulator()\n",
    "    transpiled = transpile(qc, simulator)\n",
    "    job = simulator.run(transpiled, shots=256)\n",
    "    result = job.result()\n",
    "    counts = result.get_counts()\n",
    "    print(counts)\n",
    "    zero_state = '0' * 3\n",
    "    return counts.get(zero_state, 0) / 256"
   ]
  },
  {
   "cell_type": "code",
   "execution_count": null,
   "id": "43cd557b",
   "metadata": {},
   "outputs": [],
   "source": [
    "n_samples = len(X_train)\n",
    "kernel_matrix = np.zeros((n_samples, n_samples))\n",
    "\n",
    "with tqdm(total=n_samples*(n_samples+1)/2, desc=\"Building Kernel Matrix\") as pbar:\n",
    "    for i in range(n_samples):\n",
    "        for j in range(i, n_samples):\n",
    "            kernel_matrix[i, j] = kernelcircuit(X_train[i], X_train[j])\n",
    "            kernel_matrix[j, i] = kernel_matrix[i, j]  # Symmetric\n",
    "            pbar.update(1)\n"
   ]
  },
  {
   "cell_type": "code",
   "execution_count": null,
   "id": "6d15f8d9",
   "metadata": {},
   "outputs": [],
   "source": [
    "from sklearn.svm import SVC\n",
    "\n",
    "svm_model = SVC(kernel='precomputed')\n",
    "svm_model.fit(kernel_matrix, y_train)\n",
    "\n",
    "n_test = len(X_test)\n",
    "n_train = len(X_train)\n",
    "kernel_test = np.zeros((n_test, n_train))\n",
    "\n",
    "with tqdm(total=n_test * n_train, desc=\"Building Test Kernel Matrix\") as pbar:\n",
    "    for i in range(n_test):\n",
    "        for j in range(n_train):\n",
    "            kernel_test[i, j] = kernelcircuit(X_test[i], X_train[j])\n",
    "            pbar.update(1)\n",
    "\n",
    "y_pred = svm_model.predict(kernel_test)\n",
    "\n",
    "from sklearn.metrics import accuracy_score\n",
    "accuracy = accuracy_score(y_test, y_pred)\n",
    "print(\"Test Accuracy:\", accuracy)\n"
   ]
  },
  {
   "cell_type": "code",
   "execution_count": null,
   "id": "92b8f27f",
   "metadata": {},
   "outputs": [],
   "source": [
    "from sklearn.metrics import (classification_report, confusion_matrix,\n",
    "                             precision_recall_curve, roc_curve, roc_auc_score)\n",
    "\n",
    "print(\"Classification Report:\")\n",
    "print(classification_report(y_test, y_pred))\n",
    "\n",
    "if len(np.unique(y_train)) == 2:\n",
    "    fpr, tpr, thresholds = roc_curve(y_test, svm_model.decision_function(kernel_test))\n",
    "    roc_auc = roc_auc_score(y_test, y_pred)\n",
    "\n",
    "    precision, recall, _ = precision_recall_curve(y_test, svm_model.decision_function(kernel_test))"
   ]
  },
  {
   "cell_type": "code",
   "execution_count": null,
   "id": "fe23abed",
   "metadata": {},
   "outputs": [],
   "source": [
    "import seaborn as sns\n",
    "import matplotlib.pyplot as plt\n",
    "\n",
    "cm = confusion_matrix(y_test, y_pred)\n",
    "plt.figure(figsize=(8,6))\n",
    "sns.heatmap(cm, annot=True, fmt='d', cmap='Blues',\n",
    "            xticklabels=np.unique(y_train),\n",
    "            yticklabels=np.unique(y_train))\n",
    "plt.title('Confusion Matrix')\n",
    "plt.xlabel('Predicted')\n",
    "plt.ylabel('Actual')\n",
    "plt.show()"
   ]
  }
 ],
 "metadata": {
  "language_info": {
   "name": "python"
  }
 },
 "nbformat": 4,
 "nbformat_minor": 5
}
